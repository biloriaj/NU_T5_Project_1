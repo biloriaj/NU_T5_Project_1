{
 "cells": [
  {
   "cell_type": "code",
   "execution_count": 43,
   "id": "f0125a40",
   "metadata": {},
   "outputs": [],
   "source": [
    "import pandas as pd\n",
    "import numpy as np"
   ]
  },
  {
   "cell_type": "code",
   "execution_count": 39,
   "id": "425783af",
   "metadata": {},
   "outputs": [],
   "source": [
    "csv_file = \"Alternative_Fuel_Locations.csv\""
   ]
  },
  {
   "cell_type": "code",
   "execution_count": 62,
   "id": "ffc7894a",
   "metadata": {},
   "outputs": [
    {
     "data": {
      "text/plain": [
       "Index(['ID', 'Fuel Type Code', 'Station Name', 'Street Address',\n",
       "       'Intersection Directions', 'City', 'State', 'ZIP', 'Plus4',\n",
       "       'Station Phone', 'Status Code', 'Expected Date',\n",
       "       'Groups With Access Code', 'Access Days Time', 'Cards Accepted',\n",
       "       'BD Blends', 'NG Fill Type Code', 'NG PSI', 'EV Level1 EVSE Num',\n",
       "       'EV Level2 EVSE Num', 'EV DC Fast Count', 'EV Other Info', 'EV Network',\n",
       "       'EV Network Web', 'Geocode Status', 'Latitude', 'Longitude',\n",
       "       'Date Last Confirmed', 'Updated At', 'Owner Type Code',\n",
       "       'Federal Agency ID', 'Federal Agency Name', 'Open Date',\n",
       "       'Hydrogen Status Link', 'NG Vehicle Class', 'LPG Primary',\n",
       "       'E85 Blender Pump', 'Location'],\n",
       "      dtype='object')"
      ]
     },
     "execution_count": 62,
     "metadata": {},
     "output_type": "execute_result"
    }
   ],
   "source": [
    "df.columns"
   ]
  },
  {
   "cell_type": "code",
   "execution_count": 71,
   "id": "67bafe8a",
   "metadata": {},
   "outputs": [
    {
     "data": {
      "text/plain": [
       "1524"
      ]
     },
     "execution_count": 71,
     "metadata": {},
     "output_type": "execute_result"
    }
   ],
   "source": [
    "df['Federal Agency ID'].isnull().sum()"
   ]
  },
  {
   "cell_type": "code",
   "execution_count": 73,
   "id": "be5305f2",
   "metadata": {},
   "outputs": [
    {
     "data": {
      "text/plain": [
       "Index(['ID', 'Fuel Type Code', 'Station Name', 'Street Address',\n",
       "       'Intersection Directions', 'City', 'State', 'ZIP', 'Plus4',\n",
       "       'Station Phone', 'Status Code', 'Expected Date',\n",
       "       'Groups With Access Code', 'Access Days Time', 'Cards Accepted',\n",
       "       'BD Blends', 'NG Fill Type Code', 'NG PSI', 'EV Level1 EVSE Num',\n",
       "       'EV Level2 EVSE Num', 'EV DC Fast Count', 'EV Other Info', 'EV Network',\n",
       "       'EV Network Web', 'Geocode Status', 'Latitude', 'Longitude',\n",
       "       'Date Last Confirmed', 'Updated At', 'Owner Type Code',\n",
       "       'Federal Agency ID', 'Federal Agency Name', 'Open Date',\n",
       "       'Hydrogen Status Link', 'NG Vehicle Class', 'LPG Primary',\n",
       "       'E85 Blender Pump', 'Location'],\n",
       "      dtype='object')"
      ]
     },
     "execution_count": 73,
     "metadata": {},
     "output_type": "execute_result"
    }
   ],
   "source": [
    "df.columns"
   ]
  },
  {
   "cell_type": "code",
   "execution_count": 84,
   "id": "fac7a7dc",
   "metadata": {},
   "outputs": [
    {
     "data": {
      "text/plain": [
       "1546"
      ]
     },
     "execution_count": 84,
     "metadata": {},
     "output_type": "execute_result"
    }
   ],
   "source": [
    "df['Plus4'].isnull().sum()"
   ]
  },
  {
   "cell_type": "code",
   "execution_count": 97,
   "id": "6b777d1a",
   "metadata": {},
   "outputs": [
    {
     "data": {
      "text/html": [
       "<div>\n",
       "<style scoped>\n",
       "    .dataframe tbody tr th:only-of-type {\n",
       "        vertical-align: middle;\n",
       "    }\n",
       "\n",
       "    .dataframe tbody tr th {\n",
       "        vertical-align: top;\n",
       "    }\n",
       "\n",
       "    .dataframe thead th {\n",
       "        text-align: right;\n",
       "    }\n",
       "</style>\n",
       "<table border=\"1\" class=\"dataframe\">\n",
       "  <thead>\n",
       "    <tr style=\"text-align: right;\">\n",
       "      <th></th>\n",
       "      <th>ID</th>\n",
       "      <th>Fuel Type Code</th>\n",
       "      <th>Station Name</th>\n",
       "      <th>Street Address</th>\n",
       "      <th>City</th>\n",
       "      <th>State</th>\n",
       "      <th>ZIP</th>\n",
       "      <th>Status Code</th>\n",
       "      <th>Expected Date</th>\n",
       "      <th>NG Fill Type Code</th>\n",
       "      <th>...</th>\n",
       "      <th>Updated At</th>\n",
       "      <th>Owner Type Code</th>\n",
       "      <th>Federal Agency ID</th>\n",
       "      <th>Federal Agency Name</th>\n",
       "      <th>Open Date</th>\n",
       "      <th>Hydrogen Status Link</th>\n",
       "      <th>NG Vehicle Class</th>\n",
       "      <th>LPG Primary</th>\n",
       "      <th>E85 Blender Pump</th>\n",
       "      <th>Location</th>\n",
       "    </tr>\n",
       "  </thead>\n",
       "  <tbody>\n",
       "    <tr>\n",
       "      <th>0</th>\n",
       "      <td>73389</td>\n",
       "      <td>ELEC</td>\n",
       "      <td>ComEd</td>\n",
       "      <td>2 Lincoln Center</td>\n",
       "      <td>Oakbrook Terrace</td>\n",
       "      <td>IL</td>\n",
       "      <td>60181</td>\n",
       "      <td>E</td>\n",
       "      <td>NaN</td>\n",
       "      <td>NaN</td>\n",
       "      <td>...</td>\n",
       "      <td>02/15/2023 04:45:41 PM +0000</td>\n",
       "      <td>T</td>\n",
       "      <td>NaN</td>\n",
       "      <td>NaN</td>\n",
       "      <td>11/12/2013</td>\n",
       "      <td>NaN</td>\n",
       "      <td>NaN</td>\n",
       "      <td>NaN</td>\n",
       "      <td>NaN</td>\n",
       "      <td>(41.845827, -87.985467)</td>\n",
       "    </tr>\n",
       "    <tr>\n",
       "      <th>1</th>\n",
       "      <td>152341</td>\n",
       "      <td>ELEC</td>\n",
       "      <td>University of Illinois - 915 S Paulina St</td>\n",
       "      <td>915 S Paulina St</td>\n",
       "      <td>Chicago</td>\n",
       "      <td>IL</td>\n",
       "      <td>60612</td>\n",
       "      <td>E</td>\n",
       "      <td>NaN</td>\n",
       "      <td>NaN</td>\n",
       "      <td>...</td>\n",
       "      <td>04/11/2023 07:01:37 PM +0000</td>\n",
       "      <td>NaN</td>\n",
       "      <td>NaN</td>\n",
       "      <td>NaN</td>\n",
       "      <td>01/10/2020</td>\n",
       "      <td>NaN</td>\n",
       "      <td>NaN</td>\n",
       "      <td>NaN</td>\n",
       "      <td>NaN</td>\n",
       "      <td>(41.864575, -87.645374)</td>\n",
       "    </tr>\n",
       "    <tr>\n",
       "      <th>2</th>\n",
       "      <td>193397</td>\n",
       "      <td>ELEC</td>\n",
       "      <td>OIC PARKING OIC STATION 1</td>\n",
       "      <td>10255 W Higgins Rd</td>\n",
       "      <td>Rosemont</td>\n",
       "      <td>IL</td>\n",
       "      <td>60018</td>\n",
       "      <td>E</td>\n",
       "      <td>NaN</td>\n",
       "      <td>NaN</td>\n",
       "      <td>...</td>\n",
       "      <td>04/11/2023 07:29:20 PM +0000</td>\n",
       "      <td>NaN</td>\n",
       "      <td>NaN</td>\n",
       "      <td>NaN</td>\n",
       "      <td>07/31/2021</td>\n",
       "      <td>NaN</td>\n",
       "      <td>NaN</td>\n",
       "      <td>NaN</td>\n",
       "      <td>NaN</td>\n",
       "      <td>(41.995438, -87.882454)</td>\n",
       "    </tr>\n",
       "    <tr>\n",
       "      <th>3</th>\n",
       "      <td>200330</td>\n",
       "      <td>E85</td>\n",
       "      <td>Casey's General Store</td>\n",
       "      <td>311 S Kinzie Ave</td>\n",
       "      <td>Bradley</td>\n",
       "      <td>IL</td>\n",
       "      <td>60915</td>\n",
       "      <td>E</td>\n",
       "      <td>NaN</td>\n",
       "      <td>NaN</td>\n",
       "      <td>...</td>\n",
       "      <td>03/22/2023 04:21:09 PM +0000</td>\n",
       "      <td>P</td>\n",
       "      <td>NaN</td>\n",
       "      <td>NaN</td>\n",
       "      <td>11/01/2021</td>\n",
       "      <td>NaN</td>\n",
       "      <td>NaN</td>\n",
       "      <td>NaN</td>\n",
       "      <td>False</td>\n",
       "      <td>(41.140532, -87.851305)</td>\n",
       "    </tr>\n",
       "    <tr>\n",
       "      <th>4</th>\n",
       "      <td>212968</td>\n",
       "      <td>ELEC</td>\n",
       "      <td>MOTORWERKS1475 EV2 MERCEDES</td>\n",
       "      <td>1475 S Barrington Rd</td>\n",
       "      <td>Barrington</td>\n",
       "      <td>IL</td>\n",
       "      <td>60010</td>\n",
       "      <td>E</td>\n",
       "      <td>NaN</td>\n",
       "      <td>NaN</td>\n",
       "      <td>...</td>\n",
       "      <td>04/11/2023 07:21:45 PM +0000</td>\n",
       "      <td>NaN</td>\n",
       "      <td>NaN</td>\n",
       "      <td>NaN</td>\n",
       "      <td>03/27/2022</td>\n",
       "      <td>NaN</td>\n",
       "      <td>NaN</td>\n",
       "      <td>NaN</td>\n",
       "      <td>NaN</td>\n",
       "      <td>(42.129171, -88.134755)</td>\n",
       "    </tr>\n",
       "  </tbody>\n",
       "</table>\n",
       "<p>5 rows × 31 columns</p>\n",
       "</div>"
      ],
      "text/plain": [
       "       ID Fuel Type Code                               Station Name  \\\n",
       "0   73389           ELEC                                      ComEd   \n",
       "1  152341           ELEC  University of Illinois - 915 S Paulina St   \n",
       "2  193397           ELEC                  OIC PARKING OIC STATION 1   \n",
       "3  200330            E85                      Casey's General Store   \n",
       "4  212968           ELEC                MOTORWERKS1475 EV2 MERCEDES   \n",
       "\n",
       "         Street Address              City State    ZIP Status Code  \\\n",
       "0      2 Lincoln Center  Oakbrook Terrace    IL  60181           E   \n",
       "1      915 S Paulina St           Chicago    IL  60612           E   \n",
       "2    10255 W Higgins Rd          Rosemont    IL  60018           E   \n",
       "3      311 S Kinzie Ave           Bradley    IL  60915           E   \n",
       "4  1475 S Barrington Rd        Barrington    IL  60010           E   \n",
       "\n",
       "  Expected Date NG Fill Type Code  ...                    Updated At  \\\n",
       "0           NaN               NaN  ...  02/15/2023 04:45:41 PM +0000   \n",
       "1           NaN               NaN  ...  04/11/2023 07:01:37 PM +0000   \n",
       "2           NaN               NaN  ...  04/11/2023 07:29:20 PM +0000   \n",
       "3           NaN               NaN  ...  03/22/2023 04:21:09 PM +0000   \n",
       "4           NaN               NaN  ...  04/11/2023 07:21:45 PM +0000   \n",
       "\n",
       "   Owner Type Code  Federal Agency ID  Federal Agency Name   Open Date  \\\n",
       "0                T                NaN                  NaN  11/12/2013   \n",
       "1              NaN                NaN                  NaN  01/10/2020   \n",
       "2              NaN                NaN                  NaN  07/31/2021   \n",
       "3                P                NaN                  NaN  11/01/2021   \n",
       "4              NaN                NaN                  NaN  03/27/2022   \n",
       "\n",
       "  Hydrogen Status Link NG Vehicle Class LPG Primary  E85 Blender Pump  \\\n",
       "0                  NaN              NaN         NaN               NaN   \n",
       "1                  NaN              NaN         NaN               NaN   \n",
       "2                  NaN              NaN         NaN               NaN   \n",
       "3                  NaN              NaN         NaN             False   \n",
       "4                  NaN              NaN         NaN               NaN   \n",
       "\n",
       "                  Location  \n",
       "0  (41.845827, -87.985467)  \n",
       "1  (41.864575, -87.645374)  \n",
       "2  (41.995438, -87.882454)  \n",
       "3  (41.140532, -87.851305)  \n",
       "4  (42.129171, -88.134755)  \n",
       "\n",
       "[5 rows x 31 columns]"
      ]
     },
     "execution_count": 97,
     "metadata": {},
     "output_type": "execute_result"
    }
   ],
   "source": [
    "df1 = df.drop(columns = ['Intersection Directions','Plus4','Station Phone', 'Groups With Access Code', 'Access Days Time', 'Cards Accepted','BD Blends'])"
   ]
  },
  {
   "cell_type": "code",
   "execution_count": null,
   "id": "983b9501",
   "metadata": {},
   "outputs": [],
   "source": []
  },
  {
   "cell_type": "code",
   "execution_count": null,
   "id": "12eabfb3",
   "metadata": {},
   "outputs": [],
   "source": []
  },
  {
   "cell_type": "code",
   "execution_count": null,
   "id": "dab4112f",
   "metadata": {},
   "outputs": [],
   "source": []
  },
  {
   "cell_type": "code",
   "execution_count": null,
   "id": "2f4c1760",
   "metadata": {},
   "outputs": [],
   "source": []
  },
  {
   "cell_type": "code",
   "execution_count": null,
   "id": "86e561b9",
   "metadata": {},
   "outputs": [],
   "source": []
  },
  {
   "cell_type": "code",
   "execution_count": null,
   "id": "8d63acdb",
   "metadata": {},
   "outputs": [],
   "source": []
  }
 ],
 "metadata": {
  "kernelspec": {
   "display_name": "Python 3 (ipykernel)",
   "language": "python",
   "name": "python3"
  },
  "language_info": {
   "codemirror_mode": {
    "name": "ipython",
    "version": 3
   },
   "file_extension": ".py",
   "mimetype": "text/x-python",
   "name": "python",
   "nbconvert_exporter": "python",
   "pygments_lexer": "ipython3",
   "version": "3.8.3"
  }
 },
 "nbformat": 4,
 "nbformat_minor": 5
}
