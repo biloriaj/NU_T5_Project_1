{
 "cells": [
  {
   "cell_type": "markdown",
   "id": "014affd8-bf96-4272-bce6-cae55f0a971a",
   "metadata": {},
   "source": [
    "### Alternative Fuel Locations\n",
    "\n",
    "* This project will focus on the density and distribution of alternative fuel locations in the extended Chicago Area.\n",
    "** The data set used was obtained from the City of Chicago website, and can be accessed following the link: https://data.cityofchicago.org/Environment-Sustainable-Development/Alternative-Fuel-Locations/f7f2-ggz5/data"
   ]
  },
  {
   "cell_type": "code",
   "execution_count": 64,
   "id": "ed539846-3147-49ee-9e5c-13e0540ba1a7",
   "metadata": {},
   "outputs": [],
   "source": [
    "import hvplot.pandas\n",
    "import matplotlib.pyplot as plt\n",
    "import pandas as pd\n",
    "import requests\n",
    "import time\n",
    "import numpy as np"
   ]
  },
  {
   "cell_type": "code",
   "execution_count": 65,
   "id": "425783af",
   "metadata": {},
   "outputs": [],
   "source": [
    "# Reading csv file and creating Data Frame\n",
    "csv_file = \"Alternative_Fuel_Locations.csv\"\n",
    "alternative_fuel_df = pd.read_csv(csv_file)"
   ]
  },
  {
   "cell_type": "code",
   "execution_count": 66,
   "id": "ffc7894a",
   "metadata": {},
   "outputs": [
    {
     "data": {
      "text/plain": [
       "Index(['ID', 'Fuel Type Code', 'Station Name', 'Street Address',\n",
       "       'Intersection Directions', 'City', 'State', 'ZIP', 'Plus4',\n",
       "       'Station Phone', 'Status Code', 'Expected Date',\n",
       "       'Groups With Access Code', 'Access Days Time', 'Cards Accepted',\n",
       "       'BD Blends', 'NG Fill Type Code', 'NG PSI', 'EV Level1 EVSE Num',\n",
       "       'EV Level2 EVSE Num', 'EV DC Fast Count', 'EV Other Info', 'EV Network',\n",
       "       'EV Network Web', 'Geocode Status', 'Latitude', 'Longitude',\n",
       "       'Date Last Confirmed', 'Updated At', 'Owner Type Code',\n",
       "       'Federal Agency ID', 'Federal Agency Name', 'Open Date',\n",
       "       'Hydrogen Status Link', 'NG Vehicle Class', 'LPG Primary',\n",
       "       'E85 Blender Pump', 'Location'],\n",
       "      dtype='object')"
      ]
     },
     "execution_count": 66,
     "metadata": {},
     "output_type": "execute_result"
    }
   ],
   "source": [
    "# Column names for cleaning out some \n",
    "alternative_fuel_df.columns"
   ]
  },
  {
   "cell_type": "code",
   "execution_count": 67,
   "id": "6c5908ab-460d-41a6-aa94-face09bb10ee",
   "metadata": {},
   "outputs": [
    {
     "data": {
      "text/plain": [
       "1524"
      ]
     },
     "execution_count": 67,
     "metadata": {},
     "output_type": "execute_result"
    }
   ],
   "source": [
    "# Searching for empty columns\n",
    "alternative_fuel_df['Federal Agency ID'].isnull().sum()"
   ]
  },
  {
   "cell_type": "code",
   "execution_count": 68,
   "id": "be5305f2",
   "metadata": {},
   "outputs": [
    {
     "data": {
      "text/html": [
       "<div>\n",
       "<style scoped>\n",
       "    .dataframe tbody tr th:only-of-type {\n",
       "        vertical-align: middle;\n",
       "    }\n",
       "\n",
       "    .dataframe tbody tr th {\n",
       "        vertical-align: top;\n",
       "    }\n",
       "\n",
       "    .dataframe thead th {\n",
       "        text-align: right;\n",
       "    }\n",
       "</style>\n",
       "<table border=\"1\" class=\"dataframe\">\n",
       "  <thead>\n",
       "    <tr style=\"text-align: right;\">\n",
       "      <th></th>\n",
       "      <th>ID</th>\n",
       "      <th>Fuel Type Code</th>\n",
       "      <th>Station Name</th>\n",
       "      <th>Street Address</th>\n",
       "      <th>City</th>\n",
       "      <th>State</th>\n",
       "      <th>Status Code</th>\n",
       "      <th>Expected Date</th>\n",
       "      <th>Groups With Access Code</th>\n",
       "      <th>Access Days Time</th>\n",
       "      <th>...</th>\n",
       "      <th>EV Network</th>\n",
       "      <th>EV Network Web</th>\n",
       "      <th>Geocode Status</th>\n",
       "      <th>Latitude</th>\n",
       "      <th>Longitude</th>\n",
       "      <th>Date Last Confirmed</th>\n",
       "      <th>Owner Type Code</th>\n",
       "      <th>Federal Agency ID</th>\n",
       "      <th>Federal Agency Name</th>\n",
       "      <th>Open Date</th>\n",
       "    </tr>\n",
       "  </thead>\n",
       "  <tbody>\n",
       "    <tr>\n",
       "      <th>0</th>\n",
       "      <td>73389</td>\n",
       "      <td>ELEC</td>\n",
       "      <td>ComEd</td>\n",
       "      <td>2 Lincoln Center</td>\n",
       "      <td>Oakbrook Terrace</td>\n",
       "      <td>IL</td>\n",
       "      <td>E</td>\n",
       "      <td>NaN</td>\n",
       "      <td>Private</td>\n",
       "      <td>NaN</td>\n",
       "      <td>...</td>\n",
       "      <td>Non-Networked</td>\n",
       "      <td>NaN</td>\n",
       "      <td>200-9</td>\n",
       "      <td>41.845827</td>\n",
       "      <td>-87.985467</td>\n",
       "      <td>03/07/2022</td>\n",
       "      <td>T</td>\n",
       "      <td>NaN</td>\n",
       "      <td>NaN</td>\n",
       "      <td>11/12/2013</td>\n",
       "    </tr>\n",
       "    <tr>\n",
       "      <th>1</th>\n",
       "      <td>152341</td>\n",
       "      <td>ELEC</td>\n",
       "      <td>University of Illinois - 915 S Paulina St</td>\n",
       "      <td>915 S Paulina St</td>\n",
       "      <td>Chicago</td>\n",
       "      <td>IL</td>\n",
       "      <td>E</td>\n",
       "      <td>NaN</td>\n",
       "      <td>Public</td>\n",
       "      <td>NaN</td>\n",
       "      <td>...</td>\n",
       "      <td>Blink Network</td>\n",
       "      <td>http://www.blinkcharging.com/</td>\n",
       "      <td>GPS</td>\n",
       "      <td>41.864575</td>\n",
       "      <td>-87.645374</td>\n",
       "      <td>04/12/2023</td>\n",
       "      <td>NaN</td>\n",
       "      <td>NaN</td>\n",
       "      <td>NaN</td>\n",
       "      <td>01/10/2020</td>\n",
       "    </tr>\n",
       "    <tr>\n",
       "      <th>2</th>\n",
       "      <td>193397</td>\n",
       "      <td>ELEC</td>\n",
       "      <td>OIC PARKING OIC STATION 1</td>\n",
       "      <td>10255 W Higgins Rd</td>\n",
       "      <td>Rosemont</td>\n",
       "      <td>IL</td>\n",
       "      <td>E</td>\n",
       "      <td>NaN</td>\n",
       "      <td>Public</td>\n",
       "      <td>24 hours daily</td>\n",
       "      <td>...</td>\n",
       "      <td>ChargePoint Network</td>\n",
       "      <td>http://www.chargepoint.com/</td>\n",
       "      <td>GPS</td>\n",
       "      <td>41.995438</td>\n",
       "      <td>-87.882454</td>\n",
       "      <td>04/12/2023</td>\n",
       "      <td>NaN</td>\n",
       "      <td>NaN</td>\n",
       "      <td>NaN</td>\n",
       "      <td>07/31/2021</td>\n",
       "    </tr>\n",
       "    <tr>\n",
       "      <th>3</th>\n",
       "      <td>200330</td>\n",
       "      <td>E85</td>\n",
       "      <td>Casey's General Store</td>\n",
       "      <td>311 S Kinzie Ave</td>\n",
       "      <td>Bradley</td>\n",
       "      <td>IL</td>\n",
       "      <td>E</td>\n",
       "      <td>NaN</td>\n",
       "      <td>Public</td>\n",
       "      <td>24 hours daily</td>\n",
       "      <td>...</td>\n",
       "      <td>NaN</td>\n",
       "      <td>NaN</td>\n",
       "      <td>200-9</td>\n",
       "      <td>41.140532</td>\n",
       "      <td>-87.851305</td>\n",
       "      <td>04/06/2022</td>\n",
       "      <td>P</td>\n",
       "      <td>NaN</td>\n",
       "      <td>NaN</td>\n",
       "      <td>11/01/2021</td>\n",
       "    </tr>\n",
       "    <tr>\n",
       "      <th>4</th>\n",
       "      <td>212968</td>\n",
       "      <td>ELEC</td>\n",
       "      <td>MOTORWERKS1475 EV2 MERCEDES</td>\n",
       "      <td>1475 S Barrington Rd</td>\n",
       "      <td>Barrington</td>\n",
       "      <td>IL</td>\n",
       "      <td>E</td>\n",
       "      <td>NaN</td>\n",
       "      <td>Public</td>\n",
       "      <td>24 hours daily</td>\n",
       "      <td>...</td>\n",
       "      <td>ChargePoint Network</td>\n",
       "      <td>http://www.chargepoint.com/</td>\n",
       "      <td>GPS</td>\n",
       "      <td>42.129171</td>\n",
       "      <td>-88.134755</td>\n",
       "      <td>04/12/2023</td>\n",
       "      <td>NaN</td>\n",
       "      <td>NaN</td>\n",
       "      <td>NaN</td>\n",
       "      <td>03/27/2022</td>\n",
       "    </tr>\n",
       "  </tbody>\n",
       "</table>\n",
       "<p>5 rows × 21 columns</p>\n",
       "</div>"
      ],
      "text/plain": [
       "       ID Fuel Type Code                               Station Name  \\\n",
       "0   73389           ELEC                                      ComEd   \n",
       "1  152341           ELEC  University of Illinois - 915 S Paulina St   \n",
       "2  193397           ELEC                  OIC PARKING OIC STATION 1   \n",
       "3  200330            E85                      Casey's General Store   \n",
       "4  212968           ELEC                MOTORWERKS1475 EV2 MERCEDES   \n",
       "\n",
       "         Street Address              City State Status Code Expected Date  \\\n",
       "0      2 Lincoln Center  Oakbrook Terrace    IL           E           NaN   \n",
       "1      915 S Paulina St           Chicago    IL           E           NaN   \n",
       "2    10255 W Higgins Rd          Rosemont    IL           E           NaN   \n",
       "3      311 S Kinzie Ave           Bradley    IL           E           NaN   \n",
       "4  1475 S Barrington Rd        Barrington    IL           E           NaN   \n",
       "\n",
       "  Groups With Access Code Access Days Time  ...           EV Network  \\\n",
       "0                 Private              NaN  ...        Non-Networked   \n",
       "1                  Public              NaN  ...        Blink Network   \n",
       "2                  Public   24 hours daily  ...  ChargePoint Network   \n",
       "3                  Public   24 hours daily  ...                  NaN   \n",
       "4                  Public   24 hours daily  ...  ChargePoint Network   \n",
       "\n",
       "                  EV Network Web Geocode Status   Latitude  Longitude  \\\n",
       "0                            NaN          200-9  41.845827 -87.985467   \n",
       "1  http://www.blinkcharging.com/            GPS  41.864575 -87.645374   \n",
       "2    http://www.chargepoint.com/            GPS  41.995438 -87.882454   \n",
       "3                            NaN          200-9  41.140532 -87.851305   \n",
       "4    http://www.chargepoint.com/            GPS  42.129171 -88.134755   \n",
       "\n",
       "   Date Last Confirmed Owner Type Code Federal Agency ID  Federal Agency Name  \\\n",
       "0           03/07/2022               T               NaN                  NaN   \n",
       "1           04/12/2023             NaN               NaN                  NaN   \n",
       "2           04/12/2023             NaN               NaN                  NaN   \n",
       "3           04/06/2022               P               NaN                  NaN   \n",
       "4           04/12/2023             NaN               NaN                  NaN   \n",
       "\n",
       "    Open Date  \n",
       "0  11/12/2013  \n",
       "1  01/10/2020  \n",
       "2  07/31/2021  \n",
       "3  11/01/2021  \n",
       "4  03/27/2022  \n",
       "\n",
       "[5 rows x 21 columns]"
      ]
     },
     "execution_count": 68,
     "metadata": {},
     "output_type": "execute_result"
    }
   ],
   "source": [
    "# Accessing columns of interest\n",
    "cleandf = alternative_fuel_df[['ID', 'Fuel Type Code', 'Station Name', 'Street Address',\n",
    "                               'City', 'State', 'Status Code', 'Expected Date', \n",
    "                               'Groups With Access Code', 'Access Days Time', 'EV Other Info', 'EV Network',\n",
    "                               'EV Network Web', 'Geocode Status', 'Latitude', 'Longitude',\n",
    "                               'Date Last Confirmed', 'Owner Type Code',\n",
    "                               'Federal Agency ID', 'Federal Agency Name', 'Open Date']]\n",
    "\n",
    "cleandf.head()\n"
   ]
  },
  {
   "cell_type": "code",
   "execution_count": 69,
   "id": "f8616fb4-1c38-4038-99f0-1323a8d00ecf",
   "metadata": {},
   "outputs": [
    {
     "data": {
      "text/plain": [
       "State\n",
       "GA       1\n",
       "IL    1371\n",
       "IN     106\n",
       "WI      67\n",
       "Name: ID, dtype: int64"
      ]
     },
     "execution_count": 69,
     "metadata": {},
     "output_type": "execute_result"
    }
   ],
   "source": [
    "# Explore what cities offer the most alternative fuel options\n",
    "# Obtaining the number of fuel stations by state\n",
    "bystate_counts = cleandf.groupby([\"State\"]).count()[\"ID\"]\n",
    "bystate_counts"
   ]
  },
  {
   "cell_type": "markdown",
   "id": "7acb516e-a521-4f67-9158-82511cc76ca2",
   "metadata": {},
   "source": [
    "* The state with more alternative fuel stations in this dataset is Illinois. Since this list is probably not exhaustive for Indiana, Wisconsin or Georgia, we will analyze tendencies only in Illinois"
   ]
  },
  {
   "cell_type": "code",
   "execution_count": 70,
   "id": "604e86bd-a365-41e9-878a-f6abcb172359",
   "metadata": {},
   "outputs": [],
   "source": [
    "# Getting a Data Frame with only Illinois State information\n",
    "bystatedf = cleandf.groupby(\"State\")\n",
    "illinois_df = bystatedf.get_group(\"IL\")\n"
   ]
  },
  {
   "cell_type": "code",
   "execution_count": 76,
   "id": "ab39fb33-7e76-47d7-ac2d-178d8ce9795e",
   "metadata": {},
   "outputs": [
    {
     "data": {
      "text/plain": [
       "Less than 10       187\n",
       "Between 10-100      24\n",
       "Between 100-400      1\n",
       "Name: ID, dtype: int64"
      ]
     },
     "execution_count": 76,
     "metadata": {},
     "output_type": "execute_result"
    }
   ],
   "source": [
    "# Counts of fuel location by City\n",
    "bycity_counts = illinois_df.groupby([\"City\"]).count()[\"ID\"]\n",
    "bycity_counts.sort_values()\n",
    "\n",
    "# Use bins to group cities by numbers of fuel stations\n",
    "size_bins = [0, 10, 100, 400]\n",
    "labels = [\"Less than 10\", \"Between 10-100\", \"Between 100-400\"]\n",
    "bycity_counts_bins = pd.cut(bycity_counts, size_bins, labels = labels, include_lowest = True)\n",
    "numbers_bycity = bycity_counts_bins.value_counts()\n",
    "numbers_bycity"
   ]
  },
  {
   "cell_type": "code",
   "execution_count": 77,
   "id": "5e3e93b9-b280-4d0c-a33f-b68fa49f220d",
   "metadata": {},
   "outputs": [
    {
     "data": {
      "image/png": "[encoded data removed]",
      "text/plain": [
       "<Figure size 640x480 with 1 Axes>"
      ]
     },
     "metadata": {},
     "output_type": "display_data"
    }
   ],
   "source": [
    "# Bar plots\n",
    "numbers_bycity.plot.bar(color=\"b\", alpha=0.5, align=\"center\")\n",
    "plt.title(\"Number of cities in Illinois with alternative fuel locations\")\n",
    "plt.xlabel(\"Number of alternative fuel locations\")\n",
    "plt.ylabel(\"Number of cities\")\n",
    "x_axis = np.arange(len(numbers_bycity))\n",
    "tick_locations = [value for value in x_axis]\n",
    "plt.xticks(tick_locations, rotation=\"horizontal\");"
   ]
  },
  {
   "cell_type": "code",
   "execution_count": null,
   "id": "92ad4487-a0f1-4bbf-b4da-303e0ed6a742",
   "metadata": {},
   "outputs": [],
   "source": []
  }
 ],
 "metadata": {
  "kernelspec": {
   "display_name": "Python 3 (ipykernel)",
   "language": "python",
   "name": "python3"
  },
  "language_info": {
   "codemirror_mode": {
    "name": "ipython",
    "version": 3
   },
   "file_extension": ".py",
   "mimetype": "text/x-python",
   "name": "python",
   "nbconvert_exporter": "python",
   "pygments_lexer": "ipython3",
   "version": "3.10.9"
  }
 },
 "nbformat": 4,
 "nbformat_minor": 5
}
